{
 "cells": [
  {
   "cell_type": "markdown",
   "metadata": {},
   "source": [
    "# 探索 GoBike 数据\n",
    "## by Ivy\n",
    "\n",
    "## 初步探索\n",
    "\n",
    "> 该数据集包含有关在旧金山湾区的自行车共享系统中的单次骑行信息。下载地址为：https://s3.amazonaws.com/baywheels-data/index.html 。本次分析只下载了 2018 年 1 - 12 月的数据。每条信息都是匿名的，其中包括:\n",
    "- 骑行时长\n",
    "- 开始时间\n",
    "- 结束时间\n",
    "- 开始站点 ID\n",
    "- 开始站点名称\n",
    "- 开始站点纬度\n",
    "- 开始站点经度\n",
    "- 结束站点 ID\n",
    "- 结束站点名称\n",
    "- 结束站点纬度\n",
    "- 结束站点经度\n",
    "- 车辆 ID\n",
    "- 用户类型：\n",
    "    1. 会员：\"Subscriber\" 或者 \"Member\"\n",
    "    2. 散客：\"Customer\" 或者 \"Casual\"\n",
    "- 会员出生年份\n",
    "- 会员性别\n",
    "- 是否参与 Bike Share for All 计划"
   ]
  },
  {
   "cell_type": "code",
   "execution_count": 2,
   "metadata": {},
   "outputs": [],
   "source": [
    "# import all packages and set plots to be embedded inline\n",
    "import numpy as np\n",
    "import pandas as pd\n",
    "import matplotlib.pyplot as plt\n",
    "import seaborn as sns\n",
    "import os\n",
    "import zipfile\n",
    "pd.set_option('max_colwidth',200)\n",
    "%matplotlib inline"
   ]
  },
  {
   "cell_type": "markdown",
   "metadata": {},
   "source": [
    "> 2018 年数据集有多个，每个月一个 csv 文件，所以这里先把 2018 年的数据进行合并，创建一个新的 `2018-fordgobike-tripdata.csv` 数据集。"
   ]
  },
  {
   "cell_type": "markdown",
   "metadata": {},
   "source": [
    "因为数据集太大，提交的是 zip 文件，初始需要运行以下代码获取完整数据："
   ]
  },
  {
   "cell_type": "code",
   "execution_count": 3,
   "metadata": {},
   "outputs": [],
   "source": [
    "def unzip_csv():\n",
    "    '''\n",
    "    将 zip 文件夹中的所有 zip 文件都解压到当前目录下\n",
    "    并返回解压后的 csv 文件名列表\n",
    "    '''\n",
    "    zip_list = os.listdir('zip/')\n",
    "    # 解压所有压缩包\n",
    "    csv_list = [] \n",
    "    for file in zip_list:\n",
    "        if file[-4:] == '.zip':\n",
    "            with zipfile.ZipFile('zip/'+file, 'r') as myzip:\n",
    "                csv_file = myzip.namelist()[0]\n",
    "                csv_list.append(csv_file)\n",
    "                myzip.extract(csv_file)\n",
    "    return csv_list\n",
    "\n",
    "def append_csv(csv_list):\n",
    "    '''\n",
    "    读取 csv_list 中的每一个 csv 文件，将所有的数据集追加到一起\n",
    "    返回最终的 df\n",
    "    '''\n",
    "    # 将数据集合并到一起\n",
    "    df = pd.DataFrame()\n",
    "    df_shape = 0\n",
    "    for c in csv_list:\n",
    "        df_month = pd.read_csv(c)\n",
    "        df_shape += df_month.shape[0]\n",
    "        df = df.append(df_month)\n",
    "    return df"
   ]
  },
  {
   "cell_type": "code",
   "execution_count": 4,
   "metadata": {},
   "outputs": [],
   "source": [
    "if '2018-fordgobike-tripdata.csv' not in os.listdir(): # 判断当前工作目录是否存在目标数据集\n",
    "    csv_list = unzip_csv() # 解压所有 zip 文件\n",
    "    df = append_csv(csv_list) # 将所有 csv 文件读取并合并到一个数据集\n",
    "    df.to_csv('2018-fordgobike-tripdata.csv',index=False) # 保存为一个 2018 年的数据集\n",
    "else:\n",
    "    df = pd.read_csv('2018-fordgobike-tripdata.csv')"
   ]
  },
  {
   "cell_type": "markdown",
   "metadata": {},
   "source": [
    "> 加载数据集，并通过以下问题描述数据属性。\n",
    "尝试通过这部分内容获得探索灵感。"
   ]
  },
  {
   "cell_type": "code",
   "execution_count": 5,
   "metadata": {},
   "outputs": [
    {
     "name": "stdout",
     "output_type": "stream",
     "text": [
      "<class 'pandas.core.frame.DataFrame'>\n",
      "RangeIndex: 1863721 entries, 0 to 1863720\n",
      "Data columns (total 16 columns):\n",
      "duration_sec               int64\n",
      "start_time                 object\n",
      "end_time                   object\n",
      "start_station_id           float64\n",
      "start_station_name         object\n",
      "start_station_latitude     float64\n",
      "start_station_longitude    float64\n",
      "end_station_id             float64\n",
      "end_station_name           object\n",
      "end_station_latitude       float64\n",
      "end_station_longitude      float64\n",
      "bike_id                    int64\n",
      "user_type                  object\n",
      "member_birth_year          float64\n",
      "member_gender              object\n",
      "bike_share_for_all_trip    object\n",
      "dtypes: float64(7), int64(2), object(7)\n",
      "memory usage: 227.5+ MB\n"
     ]
    }
   ],
   "source": [
    "df.info()"
   ]
  },
  {
   "cell_type": "code",
   "execution_count": 6,
   "metadata": {},
   "outputs": [
    {
     "data": {
      "text/plain": [
       "duration_sec               0.000000\n",
       "start_time                 0.000000\n",
       "end_time                   0.000000\n",
       "start_station_id           0.006316\n",
       "start_station_name         0.006316\n",
       "start_station_latitude     0.000000\n",
       "start_station_longitude    0.000000\n",
       "end_station_id             0.006316\n",
       "end_station_name           0.006316\n",
       "end_station_latitude       0.000000\n",
       "end_station_longitude      0.000000\n",
       "bike_id                    0.000000\n",
       "user_type                  0.000000\n",
       "member_birth_year          0.059407\n",
       "member_gender              0.059219\n",
       "bike_share_for_all_trip    0.000000\n",
       "dtype: float64"
      ]
     },
     "execution_count": 6,
     "metadata": {},
     "output_type": "execute_result"
    }
   ],
   "source": [
    "# 每列数据的缺失值比例\n",
    "df.isna().sum()/df.shape[0]"
   ]
  },
  {
   "cell_type": "markdown",
   "metadata": {},
   "source": [
    "因为这个数据集的量非常大，缺失值比例都比较小，所以直接将所有包含缺失值的数据删除处理。"
   ]
  },
  {
   "cell_type": "code",
   "execution_count": 7,
   "metadata": {},
   "outputs": [
    {
     "data": {
      "text/plain": [
       "1741556"
      ]
     },
     "execution_count": 7,
     "metadata": {},
     "output_type": "execute_result"
    }
   ],
   "source": [
    "df.dropna(inplace=True)\n",
    "df.shape[0]"
   ]
  },
  {
   "cell_type": "code",
   "execution_count": 8,
   "metadata": {},
   "outputs": [
    {
     "data": {
      "text/html": [
       "<div>\n",
       "<style scoped>\n",
       "    .dataframe tbody tr th:only-of-type {\n",
       "        vertical-align: middle;\n",
       "    }\n",
       "\n",
       "    .dataframe tbody tr th {\n",
       "        vertical-align: top;\n",
       "    }\n",
       "\n",
       "    .dataframe thead th {\n",
       "        text-align: right;\n",
       "    }\n",
       "</style>\n",
       "<table border=\"1\" class=\"dataframe\">\n",
       "  <thead>\n",
       "    <tr style=\"text-align: right;\">\n",
       "      <th></th>\n",
       "      <th>duration_sec</th>\n",
       "      <th>start_time</th>\n",
       "      <th>end_time</th>\n",
       "      <th>start_station_id</th>\n",
       "      <th>start_station_name</th>\n",
       "      <th>start_station_latitude</th>\n",
       "      <th>start_station_longitude</th>\n",
       "      <th>end_station_id</th>\n",
       "      <th>end_station_name</th>\n",
       "      <th>end_station_latitude</th>\n",
       "      <th>end_station_longitude</th>\n",
       "      <th>bike_id</th>\n",
       "      <th>user_type</th>\n",
       "      <th>member_birth_year</th>\n",
       "      <th>member_gender</th>\n",
       "      <th>bike_share_for_all_trip</th>\n",
       "    </tr>\n",
       "  </thead>\n",
       "  <tbody>\n",
       "    <tr>\n",
       "      <th>0</th>\n",
       "      <td>75284</td>\n",
       "      <td>2018-01-31 22:52:35.2390</td>\n",
       "      <td>2018-02-01 19:47:19.8240</td>\n",
       "      <td>120.0</td>\n",
       "      <td>Mission Dolores Park</td>\n",
       "      <td>37.761420</td>\n",
       "      <td>-122.426435</td>\n",
       "      <td>285.0</td>\n",
       "      <td>Webster St at O'Farrell St</td>\n",
       "      <td>37.783521</td>\n",
       "      <td>-122.431158</td>\n",
       "      <td>2765</td>\n",
       "      <td>Subscriber</td>\n",
       "      <td>1986.0</td>\n",
       "      <td>Male</td>\n",
       "      <td>No</td>\n",
       "    </tr>\n",
       "    <tr>\n",
       "      <th>2</th>\n",
       "      <td>71576</td>\n",
       "      <td>2018-01-31 14:23:55.8890</td>\n",
       "      <td>2018-02-01 10:16:52.1160</td>\n",
       "      <td>304.0</td>\n",
       "      <td>Jackson St at 5th St</td>\n",
       "      <td>37.348759</td>\n",
       "      <td>-121.894798</td>\n",
       "      <td>296.0</td>\n",
       "      <td>5th St at Virginia St</td>\n",
       "      <td>37.325998</td>\n",
       "      <td>-121.877120</td>\n",
       "      <td>3039</td>\n",
       "      <td>Customer</td>\n",
       "      <td>1996.0</td>\n",
       "      <td>Male</td>\n",
       "      <td>No</td>\n",
       "    </tr>\n",
       "    <tr>\n",
       "      <th>4</th>\n",
       "      <td>39966</td>\n",
       "      <td>2018-01-31 19:52:24.6670</td>\n",
       "      <td>2018-02-01 06:58:31.0530</td>\n",
       "      <td>74.0</td>\n",
       "      <td>Laguna St at Hayes St</td>\n",
       "      <td>37.776435</td>\n",
       "      <td>-122.426244</td>\n",
       "      <td>19.0</td>\n",
       "      <td>Post St at Kearny St</td>\n",
       "      <td>37.788975</td>\n",
       "      <td>-122.403452</td>\n",
       "      <td>617</td>\n",
       "      <td>Subscriber</td>\n",
       "      <td>1991.0</td>\n",
       "      <td>Male</td>\n",
       "      <td>No</td>\n",
       "    </tr>\n",
       "    <tr>\n",
       "      <th>6</th>\n",
       "      <td>453</td>\n",
       "      <td>2018-01-31 23:53:53.6320</td>\n",
       "      <td>2018-02-01 00:01:26.8050</td>\n",
       "      <td>110.0</td>\n",
       "      <td>17th &amp; Folsom Street Park (17th St at Folsom St)</td>\n",
       "      <td>37.763708</td>\n",
       "      <td>-122.415204</td>\n",
       "      <td>134.0</td>\n",
       "      <td>Valencia St at 24th St</td>\n",
       "      <td>37.752428</td>\n",
       "      <td>-122.420628</td>\n",
       "      <td>3571</td>\n",
       "      <td>Subscriber</td>\n",
       "      <td>1988.0</td>\n",
       "      <td>Male</td>\n",
       "      <td>No</td>\n",
       "    </tr>\n",
       "    <tr>\n",
       "      <th>7</th>\n",
       "      <td>180</td>\n",
       "      <td>2018-01-31 23:52:09.9030</td>\n",
       "      <td>2018-01-31 23:55:10.8070</td>\n",
       "      <td>81.0</td>\n",
       "      <td>Berry St at 4th St</td>\n",
       "      <td>37.775880</td>\n",
       "      <td>-122.393170</td>\n",
       "      <td>93.0</td>\n",
       "      <td>4th St at Mission Bay Blvd S</td>\n",
       "      <td>37.770407</td>\n",
       "      <td>-122.391198</td>\n",
       "      <td>1403</td>\n",
       "      <td>Subscriber</td>\n",
       "      <td>1980.0</td>\n",
       "      <td>Male</td>\n",
       "      <td>No</td>\n",
       "    </tr>\n",
       "  </tbody>\n",
       "</table>\n",
       "</div>"
      ],
      "text/plain": [
       "   duration_sec                start_time                  end_time  \\\n",
       "0         75284  2018-01-31 22:52:35.2390  2018-02-01 19:47:19.8240   \n",
       "2         71576  2018-01-31 14:23:55.8890  2018-02-01 10:16:52.1160   \n",
       "4         39966  2018-01-31 19:52:24.6670  2018-02-01 06:58:31.0530   \n",
       "6           453  2018-01-31 23:53:53.6320  2018-02-01 00:01:26.8050   \n",
       "7           180  2018-01-31 23:52:09.9030  2018-01-31 23:55:10.8070   \n",
       "\n",
       "   start_station_id                                start_station_name  \\\n",
       "0             120.0                              Mission Dolores Park   \n",
       "2             304.0                              Jackson St at 5th St   \n",
       "4              74.0                             Laguna St at Hayes St   \n",
       "6             110.0  17th & Folsom Street Park (17th St at Folsom St)   \n",
       "7              81.0                                Berry St at 4th St   \n",
       "\n",
       "   start_station_latitude  start_station_longitude  end_station_id  \\\n",
       "0               37.761420              -122.426435           285.0   \n",
       "2               37.348759              -121.894798           296.0   \n",
       "4               37.776435              -122.426244            19.0   \n",
       "6               37.763708              -122.415204           134.0   \n",
       "7               37.775880              -122.393170            93.0   \n",
       "\n",
       "               end_station_name  end_station_latitude  end_station_longitude  \\\n",
       "0    Webster St at O'Farrell St             37.783521            -122.431158   \n",
       "2         5th St at Virginia St             37.325998            -121.877120   \n",
       "4          Post St at Kearny St             37.788975            -122.403452   \n",
       "6        Valencia St at 24th St             37.752428            -122.420628   \n",
       "7  4th St at Mission Bay Blvd S             37.770407            -122.391198   \n",
       "\n",
       "   bike_id   user_type  member_birth_year member_gender  \\\n",
       "0     2765  Subscriber             1986.0          Male   \n",
       "2     3039    Customer             1996.0          Male   \n",
       "4      617  Subscriber             1991.0          Male   \n",
       "6     3571  Subscriber             1988.0          Male   \n",
       "7     1403  Subscriber             1980.0          Male   \n",
       "\n",
       "  bike_share_for_all_trip  \n",
       "0                      No  \n",
       "2                      No  \n",
       "4                      No  \n",
       "6                      No  \n",
       "7                      No  "
      ]
     },
     "execution_count": 8,
     "metadata": {},
     "output_type": "execute_result"
    }
   ],
   "source": [
    "df.head()"
   ]
  },
  {
   "cell_type": "code",
   "execution_count": 9,
   "metadata": {},
   "outputs": [
    {
     "name": "stdout",
     "output_type": "stream",
     "text": [
      "<class 'pandas.core.frame.DataFrame'>\n",
      "Int64Index: 1741556 entries, 0 to 1863719\n",
      "Data columns (total 16 columns):\n",
      "duration_sec               int64\n",
      "start_time                 object\n",
      "end_time                   object\n",
      "start_station_id           float64\n",
      "start_station_name         object\n",
      "start_station_latitude     float64\n",
      "start_station_longitude    float64\n",
      "end_station_id             float64\n",
      "end_station_name           object\n",
      "end_station_latitude       float64\n",
      "end_station_longitude      float64\n",
      "bike_id                    int64\n",
      "user_type                  object\n",
      "member_birth_year          float64\n",
      "member_gender              object\n",
      "bike_share_for_all_trip    object\n",
      "dtypes: float64(7), int64(2), object(7)\n",
      "memory usage: 225.9+ MB\n"
     ]
    }
   ],
   "source": [
    "df.info()"
   ]
  },
  {
   "cell_type": "markdown",
   "metadata": {},
   "source": [
    "初步清理各列错误的数据类型：\n",
    "\n",
    "- member_birth_year 应该是 int 型；\n",
    "- id 相关列应该是字符串类型；\n",
    "- time 相关列应该是 datetime 类型；\n",
    "- bike_share_for_all_trip 应该是布尔值。"
   ]
  },
  {
   "cell_type": "code",
   "execution_count": 10,
   "metadata": {},
   "outputs": [],
   "source": [
    "df['member_birth_year'] = df['member_birth_year'].astype(np.int64)"
   ]
  },
  {
   "cell_type": "code",
   "execution_count": 11,
   "metadata": {},
   "outputs": [],
   "source": [
    "column_list = df.columns.tolist()"
   ]
  },
  {
   "cell_type": "code",
   "execution_count": 12,
   "metadata": {},
   "outputs": [],
   "source": [
    "for c in column_list:\n",
    "    if '_id' in c:\n",
    "        df[c] = df[c].astype(np.int64).astype(str)\n",
    "    elif '_time' in c:\n",
    "        df[c] = pd.to_datetime(df[c])"
   ]
  },
  {
   "cell_type": "code",
   "execution_count": 13,
   "metadata": {},
   "outputs": [],
   "source": [
    "df.replace(['Yes','No'],[True,False],inplace=True)"
   ]
  },
  {
   "cell_type": "code",
   "execution_count": 14,
   "metadata": {},
   "outputs": [
    {
     "name": "stdout",
     "output_type": "stream",
     "text": [
      "<class 'pandas.core.frame.DataFrame'>\n",
      "Int64Index: 1741556 entries, 0 to 1863719\n",
      "Data columns (total 16 columns):\n",
      "duration_sec               int64\n",
      "start_time                 datetime64[ns]\n",
      "end_time                   datetime64[ns]\n",
      "start_station_id           object\n",
      "start_station_name         object\n",
      "start_station_latitude     float64\n",
      "start_station_longitude    float64\n",
      "end_station_id             object\n",
      "end_station_name           object\n",
      "end_station_latitude       float64\n",
      "end_station_longitude      float64\n",
      "bike_id                    object\n",
      "user_type                  object\n",
      "member_birth_year          int64\n",
      "member_gender              object\n",
      "bike_share_for_all_trip    bool\n",
      "dtypes: bool(1), datetime64[ns](2), float64(4), int64(2), object(7)\n",
      "memory usage: 214.3+ MB\n"
     ]
    }
   ],
   "source": [
    "df.info()"
   ]
  },
  {
   "cell_type": "markdown",
   "metadata": {},
   "source": [
    "### 数据集结构\n",
    "\n",
    "- `duration_sec`               int64\n",
    "- `start_time`                 datetime64[ns]\n",
    "- `end_time`                   datetime64[ns]\n",
    "- `start_station_id`           object\n",
    "- `start_station_name`         object\n",
    "- `start_station_latitude`     float64\n",
    "- `start_station_longitude`    float64\n",
    "- `end_station_id`             object\n",
    "- `end_station_name`           object\n",
    "- `end_station_latitude`       float64\n",
    "- `end_station_longitude`      float64\n",
    "- `bike_id`                    object\n",
    "- `user_type`                  object\n",
    "- `member_birth_year`          int64\n",
    "- `member_gender`              object\n",
    "- `bike_share_for_all_trip`    bool\n",
    "\n",
    "### 数据集中感兴趣的列主要有：\n",
    "\n",
    "- 是否订阅会员服务（`user_type`），与哪些特征相关？\n",
    "\n",
    "### 你认为数据集中的哪些特征有助于对感兴趣的特征进行探索？\n",
    "\n",
    "> `duration_sec`、`start_time`  、`member_birth_year`、`member_gender`、`bike_share_for_all_trip`"
   ]
  },
  {
   "cell_type": "markdown",
   "metadata": {},
   "source": [
    "## 单变量探索\n",
    "\n",
    "> 对单一变量进行探索，如果发现异常值，则进行深入清理。"
   ]
  },
  {
   "cell_type": "code",
   "execution_count": 15,
   "metadata": {},
   "outputs": [],
   "source": [
    "df_copy = df[['duration_sec','start_time','member_birth_year','member_gender','bike_share_for_all_trip','user_type']].copy()"
   ]
  },
  {
   "cell_type": "markdown",
   "metadata": {},
   "source": [
    "#### 骑行时长分布"
   ]
  },
  {
   "cell_type": "code",
   "execution_count": 16,
   "metadata": {},
   "outputs": [
    {
     "data": {
      "image/png": "[encoded data removed]",
      "text/plain": [
       "<Figure size 432x288 with 1 Axes>"
      ]
     },
     "metadata": {},
     "output_type": "display_data"
    }
   ],
   "source": [
    "df_copy.duration_sec.hist(bins=50)\n",
    "plt.xscale('log');"
   ]
  },
  {
   "cell_type": "markdown",
   "metadata": {},
   "source": [
    "可以看到骑行时长右偏非常严重，使用 log 变换之后也不太容易观察，再详细设置一下："
   ]
  },
  {
   "cell_type": "code",
   "execution_count": 17,
   "metadata": {},
   "outputs": [
    {
     "data": {
      "image/png": "[encoded data removed]",
      "text/plain": [
       "<Figure size 432x288 with 1 Axes>"
      ]
     },
     "metadata": {},
     "output_type": "display_data"
    }
   ],
   "source": [
    "bin_edges = 10 ** np.arange(1, np.log10(df_copy.duration_sec.max())+0.1, 0.1)\n",
    "plt.hist(df_copy.duration_sec, bins = bin_edges)\n",
    "plt.xscale('log')\n",
    "tick_locs = [60, 180, 300, 600, 1200, 1800, 3600, 7200, 18000]\n",
    "tick_labels = ['1min','3min','5min','10min','20min','30min','60min','120min','300min']\n",
    "plt.xticks(tick_locs, tick_labels, rotation=90);"
   ]
  },
  {
   "cell_type": "markdown",
   "metadata": {},
   "source": [
    "可以观察到骑行时长大部分都在 1 小时以下，最多的位于 5-20 分钟的范围内，还是比较合理的。双变量探索时要探索会员与非会员分别的骑行时长分布。"
   ]
  },
  {
   "cell_type": "markdown",
   "metadata": {},
   "source": [
    "#### 骑行开始时间探索"
   ]
  },
  {
   "cell_type": "code",
   "execution_count": 18,
   "metadata": {},
   "outputs": [],
   "source": [
    "df_copy['start_date'] = df_copy['start_time'].dt.date\n",
    "df_copy['start_week'] = df_copy['start_time'].dt.week\n",
    "df_copy['start_weekday'] = df_copy['start_time'].dt.weekday\n",
    "df_copy['start_hour'] = df_copy['start_time'].dt.hour\n",
    "df_copy['start_month'] = df_copy['start_time'].dt.month"
   ]
  },
  {
   "cell_type": "code",
   "execution_count": 19,
   "metadata": {},
   "outputs": [
    {
     "data": {
      "image/png": "[encoded data removed]",
      "text/plain": [
       "<Figure size 1080x360 with 1 Axes>"
      ]
     },
     "metadata": {},
     "output_type": "display_data"
    }
   ],
   "source": [
    "df_copy['start_date'].value_counts().sort_index().plot(figsize=(15,5))\n",
    "plt.xlabel('Start Date');"
   ]
  },
  {
   "cell_type": "markdown",
   "metadata": {},
   "source": [
    "可以看到明显的、有规律的波动，猜测是周末使用量下降导致的，看一下每周使用量是否与上面的波动相似："
   ]
  },
  {
   "cell_type": "code",
   "execution_count": 20,
   "metadata": {},
   "outputs": [
    {
     "data": {
      "image/png": "[encoded data removed]",
      "text/plain": [
       "<Figure size 1080x360 with 1 Axes>"
      ]
     },
     "metadata": {},
     "output_type": "display_data"
    }
   ],
   "source": [
    "df_copy['start_week'].value_counts().sort_index().plot(kind='bar',figsize=(15,5));"
   ]
  },
  {
   "cell_type": "markdown",
   "metadata": {},
   "source": [
    "每周的波动很可能是由于周末导致的，观察一下一周 7 天的变化情况："
   ]
  },
  {
   "cell_type": "code",
   "execution_count": 21,
   "metadata": {},
   "outputs": [
    {
     "data": {
      "image/png": "[encoded data removed]",
      "text/plain": [
       "<Figure size 720x360 with 1 Axes>"
      ]
     },
     "metadata": {},
     "output_type": "display_data"
    }
   ],
   "source": [
    "df_copy['start_weekday'].value_counts().sort_index().plot(kind='bar',figsize=(10,5))\n",
    "# dayOfWeek={0:'Monday', 1:'Tuesday', 2:'Wednesday', 3:'Thursday', 4:'Friday', 5:'Saturday', 6:'Sunday'}\n",
    "weekday_name = ['Monday','Tuesday','Wednesday','Thursday','Friday','Saturday','Sunday']\n",
    "plt.xticks(range(0,7), weekday_name)\n",
    "plt.xlabel('Start Weekday');"
   ]
  },
  {
   "cell_type": "markdown",
   "metadata": {},
   "source": [
    "果然周末使用量减少很多，那么可能使用更多的是通勤的用途，可以探索一下小时的规律，看看能否与通勤挂钩："
   ]
  },
  {
   "cell_type": "code",
   "execution_count": 22,
   "metadata": {},
   "outputs": [
    {
     "data": {
      "image/png": "[encoded data removed]",
      "text/plain": [
       "<Figure size 1080x360 with 1 Axes>"
      ]
     },
     "metadata": {},
     "output_type": "display_data"
    }
   ],
   "source": [
    "df_copy['start_hour'].value_counts().sort_index().plot(kind='bar',figsize=(15,5),rot=0)\n",
    "plt.xticks(range(0,24), range(0,24))\n",
    "plt.xlabel('Start Hour');"
   ]
  },
  {
   "cell_type": "markdown",
   "metadata": {},
   "source": [
    "开始骑行的小时，可以发现明显的两个高峰，一个是 8-9 点，一个是 17-18 点，上下班高峰期。"
   ]
  },
  {
   "cell_type": "code",
   "execution_count": 23,
   "metadata": {},
   "outputs": [
    {
     "data": {
      "image/png": "[encoded data removed]",
      "text/plain": [
       "<Figure size 1080x360 with 1 Axes>"
      ]
     },
     "metadata": {},
     "output_type": "display_data"
    }
   ],
   "source": [
    "df_copy['start_month'].value_counts().sort_index().plot(kind='bar',figsize=(15,5),rot=0);"
   ]
  },
  {
   "cell_type": "markdown",
   "metadata": {},
   "source": [
    "寒冷的月份使用量较少，5-10月使用量较多。"
   ]
  },
  {
   "cell_type": "markdown",
   "metadata": {},
   "source": [
    "#### 用户类型分布"
   ]
  },
  {
   "cell_type": "code",
   "execution_count": 24,
   "metadata": {},
   "outputs": [
    {
     "name": "stdout",
     "output_type": "stream",
     "text": [
      "Subscriber    1542367\n",
      "Customer       199189\n",
      "Name: user_type, dtype: int64\n"
     ]
    },
    {
     "data": {
      "image/png": "[encoded data removed]",
      "text/plain": [
       "<Figure size 360x360 with 1 Axes>"
      ]
     },
     "metadata": {},
     "output_type": "display_data"
    }
   ],
   "source": [
    "print(df_copy.user_type.value_counts())\n",
    "df_copy.user_type.value_counts().plot(kind='pie', autopct='%.1f%%',figsize=(5,5));"
   ]
  },
  {
   "cell_type": "code",
   "execution_count": 25,
   "metadata": {},
   "outputs": [],
   "source": [
    "# 创建布尔值类型的会员列，方便后续计算\n",
    "df_copy['is_vip'] = df_copy['user_type'] == 'Subscriber'"
   ]
  },
  {
   "cell_type": "code",
   "execution_count": 26,
   "metadata": {},
   "outputs": [
    {
     "data": {
      "text/plain": [
       "0.8856258426372738"
      ]
     },
     "execution_count": 26,
     "metadata": {},
     "output_type": "execute_result"
    }
   ],
   "source": [
    "df_copy['is_vip'].mean() #验证一下，与上面的饼图百分比一致"
   ]
  },
  {
   "cell_type": "markdown",
   "metadata": {},
   "source": [
    "大部分骑行订单来自会员账户，只有 11.4% 来自散客。"
   ]
  },
  {
   "cell_type": "markdown",
   "metadata": {},
   "source": [
    "#### Bike Share for All 服务\n",
    "\n",
    "Bike Share for All 这是一种服务方式，根据官网的介绍，似乎针对的是低收入人群，需要符合一些标准才可以申请，以下内容摘自[官网介绍](https://www.lyft.com/bikes/bay-wheels/bike-share-for-all):\n",
    "> We offer all residents of the Bay Area an affordable, accessible, and fun new transportation option. Low-income residents qualify for a discounted membership.\n",
    "\n",
    ">Bike Share for All is available to Bay Area residents ages 18 and older who qualify for Calfresh, SFMTA (Low Income) Lifeline Pass or PG&E CARE utility discount.\n",
    "\n",
    "探索一下 2018 年这个服务的情况："
   ]
  },
  {
   "cell_type": "code",
   "execution_count": 27,
   "metadata": {},
   "outputs": [
    {
     "name": "stdout",
     "output_type": "stream",
     "text": [
      "False    1580067\n",
      "True      161489\n",
      "Name: bike_share_for_all_trip, dtype: int64\n"
     ]
    },
    {
     "data": {
      "image/png": "[encoded data removed]",
      "text/plain": [
       "<Figure size 360x360 with 1 Axes>"
      ]
     },
     "metadata": {},
     "output_type": "display_data"
    }
   ],
   "source": [
    "print(df_copy.bike_share_for_all_trip.value_counts())\n",
    "df_copy.bike_share_for_all_trip.value_counts().plot(kind='pie', autopct='%.1f%%',figsize=(5,5));"
   ]
  },
  {
   "cell_type": "markdown",
   "metadata": {},
   "source": [
    "只有 9.3% 的用户享用 Bike Share for All 服务。\n",
    "\n",
    "#### 用户性别分布"
   ]
  },
  {
   "cell_type": "code",
   "execution_count": 28,
   "metadata": {},
   "outputs": [
    {
     "name": "stdout",
     "output_type": "stream",
     "text": [
      "Male      1279545\n",
      "Female     435010\n",
      "Other       27001\n",
      "Name: member_gender, dtype: int64\n"
     ]
    },
    {
     "data": {
      "image/png": "[encoded data removed]",
      "text/plain": [
       "<Figure size 360x360 with 1 Axes>"
      ]
     },
     "metadata": {},
     "output_type": "display_data"
    }
   ],
   "source": [
    "print(df_copy.member_gender.value_counts())\n",
    "df_copy.member_gender.value_counts().plot(kind='pie', autopct='%.1f%%',figsize=(5,5));"
   ]
  },
  {
   "cell_type": "markdown",
   "metadata": {},
   "source": [
    "大部分用户是男性，大约 1/4 的用户是女性，男女比例还是比较有差异性的。"
   ]
  },
  {
   "cell_type": "markdown",
   "metadata": {},
   "source": [
    "#### 出生年份 / 年龄分布"
   ]
  },
  {
   "cell_type": "code",
   "execution_count": 29,
   "metadata": {},
   "outputs": [
    {
     "data": {
      "image/png": "[encoded data removed]",
      "text/plain": [
       "<Figure size 432x288 with 1 Axes>"
      ]
     },
     "metadata": {},
     "output_type": "display_data"
    }
   ],
   "source": [
    "df_copy.member_birth_year.hist();"
   ]
  },
  {
   "cell_type": "markdown",
   "metadata": {},
   "source": [
    "出生年份，其实可以转换为年龄，更容易认知。因为这些数据都是 2018 年的，所以直接用 2018 减去出生年份就是每个用户的年龄了："
   ]
  },
  {
   "cell_type": "code",
   "execution_count": 30,
   "metadata": {},
   "outputs": [],
   "source": [
    "df_copy['age'] = 2018 - df_copy['member_birth_year']"
   ]
  },
  {
   "cell_type": "code",
   "execution_count": 31,
   "metadata": {},
   "outputs": [
    {
     "data": {
      "image/png": "[encoded data removed]",
      "text/plain": [
       "<Figure size 432x288 with 1 Axes>"
      ]
     },
     "metadata": {},
     "output_type": "display_data"
    }
   ],
   "source": [
    "df_copy['age'].hist();"
   ]
  },
  {
   "cell_type": "markdown",
   "metadata": {},
   "source": [
    "可以看到有一些超过 90 岁的异常值，可以打印出来观察："
   ]
  },
  {
   "cell_type": "code",
   "execution_count": 32,
   "metadata": {},
   "outputs": [
    {
     "data": {
      "text/html": [
       "<div>\n",
       "<style scoped>\n",
       "    .dataframe tbody tr th:only-of-type {\n",
       "        vertical-align: middle;\n",
       "    }\n",
       "\n",
       "    .dataframe tbody tr th {\n",
       "        vertical-align: top;\n",
       "    }\n",
       "\n",
       "    .dataframe thead th {\n",
       "        text-align: right;\n",
       "    }\n",
       "</style>\n",
       "<table border=\"1\" class=\"dataframe\">\n",
       "  <thead>\n",
       "    <tr style=\"text-align: right;\">\n",
       "      <th></th>\n",
       "      <th>duration_sec</th>\n",
       "      <th>start_time</th>\n",
       "      <th>member_birth_year</th>\n",
       "      <th>member_gender</th>\n",
       "      <th>bike_share_for_all_trip</th>\n",
       "      <th>user_type</th>\n",
       "      <th>start_date</th>\n",
       "      <th>start_week</th>\n",
       "      <th>start_weekday</th>\n",
       "      <th>start_hour</th>\n",
       "      <th>start_month</th>\n",
       "      <th>is_vip</th>\n",
       "      <th>age</th>\n",
       "    </tr>\n",
       "  </thead>\n",
       "  <tbody>\n",
       "    <tr>\n",
       "      <th>93</th>\n",
       "      <td>465</td>\n",
       "      <td>2018-01-31 21:56:17.633</td>\n",
       "      <td>1911</td>\n",
       "      <td>Other</td>\n",
       "      <td>False</td>\n",
       "      <td>Subscriber</td>\n",
       "      <td>2018-01-31</td>\n",
       "      <td>5</td>\n",
       "      <td>2</td>\n",
       "      <td>21</td>\n",
       "      <td>1</td>\n",
       "      <td>True</td>\n",
       "      <td>107</td>\n",
       "    </tr>\n",
       "    <tr>\n",
       "      <th>1065</th>\n",
       "      <td>549</td>\n",
       "      <td>2018-01-31 18:01:24.729</td>\n",
       "      <td>1911</td>\n",
       "      <td>Other</td>\n",
       "      <td>False</td>\n",
       "      <td>Subscriber</td>\n",
       "      <td>2018-01-31</td>\n",
       "      <td>5</td>\n",
       "      <td>2</td>\n",
       "      <td>18</td>\n",
       "      <td>1</td>\n",
       "      <td>True</td>\n",
       "      <td>107</td>\n",
       "    </tr>\n",
       "    <tr>\n",
       "      <th>1254</th>\n",
       "      <td>568</td>\n",
       "      <td>2018-01-31 17:40:47.701</td>\n",
       "      <td>1911</td>\n",
       "      <td>Other</td>\n",
       "      <td>False</td>\n",
       "      <td>Subscriber</td>\n",
       "      <td>2018-01-31</td>\n",
       "      <td>5</td>\n",
       "      <td>2</td>\n",
       "      <td>17</td>\n",
       "      <td>1</td>\n",
       "      <td>True</td>\n",
       "      <td>107</td>\n",
       "    </tr>\n",
       "    <tr>\n",
       "      <th>1532</th>\n",
       "      <td>658</td>\n",
       "      <td>2018-01-31 17:11:03.424</td>\n",
       "      <td>1902</td>\n",
       "      <td>Male</td>\n",
       "      <td>False</td>\n",
       "      <td>Subscriber</td>\n",
       "      <td>2018-01-31</td>\n",
       "      <td>5</td>\n",
       "      <td>2</td>\n",
       "      <td>17</td>\n",
       "      <td>1</td>\n",
       "      <td>True</td>\n",
       "      <td>116</td>\n",
       "    </tr>\n",
       "    <tr>\n",
       "      <th>2983</th>\n",
       "      <td>1681</td>\n",
       "      <td>2018-01-31 09:37:00.045</td>\n",
       "      <td>1911</td>\n",
       "      <td>Other</td>\n",
       "      <td>False</td>\n",
       "      <td>Subscriber</td>\n",
       "      <td>2018-01-31</td>\n",
       "      <td>5</td>\n",
       "      <td>2</td>\n",
       "      <td>9</td>\n",
       "      <td>1</td>\n",
       "      <td>True</td>\n",
       "      <td>107</td>\n",
       "    </tr>\n",
       "    <tr>\n",
       "      <th>3409</th>\n",
       "      <td>549</td>\n",
       "      <td>2018-01-31 09:02:28.385</td>\n",
       "      <td>1902</td>\n",
       "      <td>Male</td>\n",
       "      <td>False</td>\n",
       "      <td>Subscriber</td>\n",
       "      <td>2018-01-31</td>\n",
       "      <td>5</td>\n",
       "      <td>2</td>\n",
       "      <td>9</td>\n",
       "      <td>1</td>\n",
       "      <td>True</td>\n",
       "      <td>116</td>\n",
       "    </tr>\n",
       "    <tr>\n",
       "      <th>3768</th>\n",
       "      <td>1215</td>\n",
       "      <td>2018-01-31 08:17:13.815</td>\n",
       "      <td>1911</td>\n",
       "      <td>Other</td>\n",
       "      <td>False</td>\n",
       "      <td>Subscriber</td>\n",
       "      <td>2018-01-31</td>\n",
       "      <td>5</td>\n",
       "      <td>2</td>\n",
       "      <td>8</td>\n",
       "      <td>1</td>\n",
       "      <td>True</td>\n",
       "      <td>107</td>\n",
       "    </tr>\n",
       "    <tr>\n",
       "      <th>5343</th>\n",
       "      <td>787</td>\n",
       "      <td>2018-01-30 18:25:32.383</td>\n",
       "      <td>1911</td>\n",
       "      <td>Other</td>\n",
       "      <td>False</td>\n",
       "      <td>Subscriber</td>\n",
       "      <td>2018-01-30</td>\n",
       "      <td>5</td>\n",
       "      <td>1</td>\n",
       "      <td>18</td>\n",
       "      <td>1</td>\n",
       "      <td>True</td>\n",
       "      <td>107</td>\n",
       "    </tr>\n",
       "    <tr>\n",
       "      <th>6043</th>\n",
       "      <td>610</td>\n",
       "      <td>2018-01-30 17:13:48.813</td>\n",
       "      <td>1902</td>\n",
       "      <td>Male</td>\n",
       "      <td>False</td>\n",
       "      <td>Subscriber</td>\n",
       "      <td>2018-01-30</td>\n",
       "      <td>5</td>\n",
       "      <td>1</td>\n",
       "      <td>17</td>\n",
       "      <td>1</td>\n",
       "      <td>True</td>\n",
       "      <td>116</td>\n",
       "    </tr>\n",
       "    <tr>\n",
       "      <th>6196</th>\n",
       "      <td>1325</td>\n",
       "      <td>2018-01-30 16:48:10.170</td>\n",
       "      <td>1900</td>\n",
       "      <td>Other</td>\n",
       "      <td>False</td>\n",
       "      <td>Customer</td>\n",
       "      <td>2018-01-30</td>\n",
       "      <td>5</td>\n",
       "      <td>1</td>\n",
       "      <td>16</td>\n",
       "      <td>1</td>\n",
       "      <td>False</td>\n",
       "      <td>118</td>\n",
       "    </tr>\n",
       "    <tr>\n",
       "      <th>6738</th>\n",
       "      <td>497</td>\n",
       "      <td>2018-01-30 15:07:36.689</td>\n",
       "      <td>1900</td>\n",
       "      <td>Other</td>\n",
       "      <td>False</td>\n",
       "      <td>Subscriber</td>\n",
       "      <td>2018-01-30</td>\n",
       "      <td>5</td>\n",
       "      <td>1</td>\n",
       "      <td>15</td>\n",
       "      <td>1</td>\n",
       "      <td>True</td>\n",
       "      <td>118</td>\n",
       "    </tr>\n",
       "    <tr>\n",
       "      <th>7224</th>\n",
       "      <td>3824</td>\n",
       "      <td>2018-01-30 11:13:56.445</td>\n",
       "      <td>1900</td>\n",
       "      <td>Other</td>\n",
       "      <td>False</td>\n",
       "      <td>Customer</td>\n",
       "      <td>2018-01-30</td>\n",
       "      <td>5</td>\n",
       "      <td>1</td>\n",
       "      <td>11</td>\n",
       "      <td>1</td>\n",
       "      <td>False</td>\n",
       "      <td>118</td>\n",
       "    </tr>\n",
       "    <tr>\n",
       "      <th>7461</th>\n",
       "      <td>2288</td>\n",
       "      <td>2018-01-30 10:06:01.270</td>\n",
       "      <td>1900</td>\n",
       "      <td>Other</td>\n",
       "      <td>False</td>\n",
       "      <td>Customer</td>\n",
       "      <td>2018-01-30</td>\n",
       "      <td>5</td>\n",
       "      <td>1</td>\n",
       "      <td>10</td>\n",
       "      <td>1</td>\n",
       "      <td>False</td>\n",
       "      <td>118</td>\n",
       "    </tr>\n",
       "    <tr>\n",
       "      <th>7876</th>\n",
       "      <td>384</td>\n",
       "      <td>2018-01-30 09:17:20.092</td>\n",
       "      <td>1902</td>\n",
       "      <td>Female</td>\n",
       "      <td>False</td>\n",
       "      <td>Subscriber</td>\n",
       "      <td>2018-01-30</td>\n",
       "      <td>5</td>\n",
       "      <td>1</td>\n",
       "      <td>9</td>\n",
       "      <td>1</td>\n",
       "      <td>True</td>\n",
       "      <td>116</td>\n",
       "    </tr>\n",
       "    <tr>\n",
       "      <th>7894</th>\n",
       "      <td>514</td>\n",
       "      <td>2018-01-30 09:13:04.846</td>\n",
       "      <td>1902</td>\n",
       "      <td>Male</td>\n",
       "      <td>False</td>\n",
       "      <td>Subscriber</td>\n",
       "      <td>2018-01-30</td>\n",
       "      <td>5</td>\n",
       "      <td>1</td>\n",
       "      <td>9</td>\n",
       "      <td>1</td>\n",
       "      <td>True</td>\n",
       "      <td>116</td>\n",
       "    </tr>\n",
       "    <tr>\n",
       "      <th>8656</th>\n",
       "      <td>677</td>\n",
       "      <td>2018-01-30 08:06:22.642</td>\n",
       "      <td>1924</td>\n",
       "      <td>Male</td>\n",
       "      <td>False</td>\n",
       "      <td>Subscriber</td>\n",
       "      <td>2018-01-30</td>\n",
       "      <td>5</td>\n",
       "      <td>1</td>\n",
       "      <td>8</td>\n",
       "      <td>1</td>\n",
       "      <td>True</td>\n",
       "      <td>94</td>\n",
       "    </tr>\n",
       "    <tr>\n",
       "      <th>8682</th>\n",
       "      <td>574</td>\n",
       "      <td>2018-01-30 08:05:41.762</td>\n",
       "      <td>1911</td>\n",
       "      <td>Other</td>\n",
       "      <td>False</td>\n",
       "      <td>Subscriber</td>\n",
       "      <td>2018-01-30</td>\n",
       "      <td>5</td>\n",
       "      <td>1</td>\n",
       "      <td>8</td>\n",
       "      <td>1</td>\n",
       "      <td>True</td>\n",
       "      <td>107</td>\n",
       "    </tr>\n",
       "    <tr>\n",
       "      <th>9736</th>\n",
       "      <td>613</td>\n",
       "      <td>2018-01-29 19:08:48.354</td>\n",
       "      <td>1924</td>\n",
       "      <td>Male</td>\n",
       "      <td>False</td>\n",
       "      <td>Subscriber</td>\n",
       "      <td>2018-01-29</td>\n",
       "      <td>5</td>\n",
       "      <td>0</td>\n",
       "      <td>19</td>\n",
       "      <td>1</td>\n",
       "      <td>True</td>\n",
       "      <td>94</td>\n",
       "    </tr>\n",
       "    <tr>\n",
       "      <th>10631</th>\n",
       "      <td>644</td>\n",
       "      <td>2018-01-29 17:16:43.975</td>\n",
       "      <td>1902</td>\n",
       "      <td>Male</td>\n",
       "      <td>False</td>\n",
       "      <td>Subscriber</td>\n",
       "      <td>2018-01-29</td>\n",
       "      <td>5</td>\n",
       "      <td>0</td>\n",
       "      <td>17</td>\n",
       "      <td>1</td>\n",
       "      <td>True</td>\n",
       "      <td>116</td>\n",
       "    </tr>\n",
       "    <tr>\n",
       "      <th>10705</th>\n",
       "      <td>661</td>\n",
       "      <td>2018-01-29 17:09:28.068</td>\n",
       "      <td>1911</td>\n",
       "      <td>Other</td>\n",
       "      <td>False</td>\n",
       "      <td>Subscriber</td>\n",
       "      <td>2018-01-29</td>\n",
       "      <td>5</td>\n",
       "      <td>0</td>\n",
       "      <td>17</td>\n",
       "      <td>1</td>\n",
       "      <td>True</td>\n",
       "      <td>107</td>\n",
       "    </tr>\n",
       "    <tr>\n",
       "      <th>11178</th>\n",
       "      <td>300</td>\n",
       "      <td>2018-01-29 15:58:32.205</td>\n",
       "      <td>1900</td>\n",
       "      <td>Other</td>\n",
       "      <td>False</td>\n",
       "      <td>Customer</td>\n",
       "      <td>2018-01-29</td>\n",
       "      <td>5</td>\n",
       "      <td>0</td>\n",
       "      <td>15</td>\n",
       "      <td>1</td>\n",
       "      <td>False</td>\n",
       "      <td>118</td>\n",
       "    </tr>\n",
       "    <tr>\n",
       "      <th>11944</th>\n",
       "      <td>968</td>\n",
       "      <td>2018-01-29 10:41:48.721</td>\n",
       "      <td>1911</td>\n",
       "      <td>Other</td>\n",
       "      <td>False</td>\n",
       "      <td>Subscriber</td>\n",
       "      <td>2018-01-29</td>\n",
       "      <td>5</td>\n",
       "      <td>0</td>\n",
       "      <td>10</td>\n",
       "      <td>1</td>\n",
       "      <td>True</td>\n",
       "      <td>107</td>\n",
       "    </tr>\n",
       "    <tr>\n",
       "      <th>12111</th>\n",
       "      <td>258</td>\n",
       "      <td>2018-01-29 10:04:53.648</td>\n",
       "      <td>1900</td>\n",
       "      <td>Other</td>\n",
       "      <td>False</td>\n",
       "      <td>Customer</td>\n",
       "      <td>2018-01-29</td>\n",
       "      <td>5</td>\n",
       "      <td>0</td>\n",
       "      <td>10</td>\n",
       "      <td>1</td>\n",
       "      <td>False</td>\n",
       "      <td>118</td>\n",
       "    </tr>\n",
       "    <tr>\n",
       "      <th>12395</th>\n",
       "      <td>343</td>\n",
       "      <td>2018-01-29 09:24:12.117</td>\n",
       "      <td>1902</td>\n",
       "      <td>Female</td>\n",
       "      <td>False</td>\n",
       "      <td>Subscriber</td>\n",
       "      <td>2018-01-29</td>\n",
       "      <td>5</td>\n",
       "      <td>0</td>\n",
       "      <td>9</td>\n",
       "      <td>1</td>\n",
       "      <td>True</td>\n",
       "      <td>116</td>\n",
       "    </tr>\n",
       "    <tr>\n",
       "      <th>12636</th>\n",
       "      <td>468</td>\n",
       "      <td>2018-01-29 09:00:44.345</td>\n",
       "      <td>1902</td>\n",
       "      <td>Male</td>\n",
       "      <td>False</td>\n",
       "      <td>Subscriber</td>\n",
       "      <td>2018-01-29</td>\n",
       "      <td>5</td>\n",
       "      <td>0</td>\n",
       "      <td>9</td>\n",
       "      <td>1</td>\n",
       "      <td>True</td>\n",
       "      <td>116</td>\n",
       "    </tr>\n",
       "    <tr>\n",
       "      <th>13180</th>\n",
       "      <td>633</td>\n",
       "      <td>2018-01-29 08:07:04.420</td>\n",
       "      <td>1924</td>\n",
       "      <td>Male</td>\n",
       "      <td>False</td>\n",
       "      <td>Subscriber</td>\n",
       "      <td>2018-01-29</td>\n",
       "      <td>5</td>\n",
       "      <td>0</td>\n",
       "      <td>8</td>\n",
       "      <td>1</td>\n",
       "      <td>True</td>\n",
       "      <td>94</td>\n",
       "    </tr>\n",
       "    <tr>\n",
       "      <th>13404</th>\n",
       "      <td>708</td>\n",
       "      <td>2018-01-29 07:30:32.767</td>\n",
       "      <td>1911</td>\n",
       "      <td>Other</td>\n",
       "      <td>False</td>\n",
       "      <td>Subscriber</td>\n",
       "      <td>2018-01-29</td>\n",
       "      <td>5</td>\n",
       "      <td>0</td>\n",
       "      <td>7</td>\n",
       "      <td>1</td>\n",
       "      <td>True</td>\n",
       "      <td>107</td>\n",
       "    </tr>\n",
       "    <tr>\n",
       "      <th>13699</th>\n",
       "      <td>522</td>\n",
       "      <td>2018-01-28 22:44:10.425</td>\n",
       "      <td>1911</td>\n",
       "      <td>Other</td>\n",
       "      <td>False</td>\n",
       "      <td>Subscriber</td>\n",
       "      <td>2018-01-28</td>\n",
       "      <td>4</td>\n",
       "      <td>6</td>\n",
       "      <td>22</td>\n",
       "      <td>1</td>\n",
       "      <td>True</td>\n",
       "      <td>107</td>\n",
       "    </tr>\n",
       "    <tr>\n",
       "      <th>14862</th>\n",
       "      <td>687</td>\n",
       "      <td>2018-01-28 14:10:28.619</td>\n",
       "      <td>1900</td>\n",
       "      <td>Male</td>\n",
       "      <td>False</td>\n",
       "      <td>Subscriber</td>\n",
       "      <td>2018-01-28</td>\n",
       "      <td>4</td>\n",
       "      <td>6</td>\n",
       "      <td>14</td>\n",
       "      <td>1</td>\n",
       "      <td>True</td>\n",
       "      <td>118</td>\n",
       "    </tr>\n",
       "    <tr>\n",
       "      <th>14980</th>\n",
       "      <td>1378</td>\n",
       "      <td>2018-01-28 13:24:44.058</td>\n",
       "      <td>1900</td>\n",
       "      <td>Male</td>\n",
       "      <td>False</td>\n",
       "      <td>Subscriber</td>\n",
       "      <td>2018-01-28</td>\n",
       "      <td>4</td>\n",
       "      <td>6</td>\n",
       "      <td>13</td>\n",
       "      <td>1</td>\n",
       "      <td>True</td>\n",
       "      <td>118</td>\n",
       "    </tr>\n",
       "    <tr>\n",
       "      <th>...</th>\n",
       "      <td>...</td>\n",
       "      <td>...</td>\n",
       "      <td>...</td>\n",
       "      <td>...</td>\n",
       "      <td>...</td>\n",
       "      <td>...</td>\n",
       "      <td>...</td>\n",
       "      <td>...</td>\n",
       "      <td>...</td>\n",
       "      <td>...</td>\n",
       "      <td>...</td>\n",
       "      <td>...</td>\n",
       "      <td>...</td>\n",
       "    </tr>\n",
       "    <tr>\n",
       "      <th>1780303</th>\n",
       "      <td>3500</td>\n",
       "      <td>2018-12-18 09:54:06.401</td>\n",
       "      <td>1900</td>\n",
       "      <td>Male</td>\n",
       "      <td>False</td>\n",
       "      <td>Customer</td>\n",
       "      <td>2018-12-18</td>\n",
       "      <td>51</td>\n",
       "      <td>1</td>\n",
       "      <td>9</td>\n",
       "      <td>12</td>\n",
       "      <td>False</td>\n",
       "      <td>118</td>\n",
       "    </tr>\n",
       "    <tr>\n",
       "      <th>1780432</th>\n",
       "      <td>668</td>\n",
       "      <td>2018-12-18 10:15:47.079</td>\n",
       "      <td>1902</td>\n",
       "      <td>Female</td>\n",
       "      <td>False</td>\n",
       "      <td>Subscriber</td>\n",
       "      <td>2018-12-18</td>\n",
       "      <td>51</td>\n",
       "      <td>1</td>\n",
       "      <td>10</td>\n",
       "      <td>12</td>\n",
       "      <td>True</td>\n",
       "      <td>116</td>\n",
       "    </tr>\n",
       "    <tr>\n",
       "      <th>1780884</th>\n",
       "      <td>391</td>\n",
       "      <td>2018-12-18 09:22:04.980</td>\n",
       "      <td>1900</td>\n",
       "      <td>Male</td>\n",
       "      <td>False</td>\n",
       "      <td>Customer</td>\n",
       "      <td>2018-12-18</td>\n",
       "      <td>51</td>\n",
       "      <td>1</td>\n",
       "      <td>9</td>\n",
       "      <td>12</td>\n",
       "      <td>False</td>\n",
       "      <td>118</td>\n",
       "    </tr>\n",
       "    <tr>\n",
       "      <th>1782219</th>\n",
       "      <td>504</td>\n",
       "      <td>2018-12-18 07:44:25.409</td>\n",
       "      <td>1901</td>\n",
       "      <td>Male</td>\n",
       "      <td>False</td>\n",
       "      <td>Customer</td>\n",
       "      <td>2018-12-18</td>\n",
       "      <td>51</td>\n",
       "      <td>1</td>\n",
       "      <td>7</td>\n",
       "      <td>12</td>\n",
       "      <td>False</td>\n",
       "      <td>117</td>\n",
       "    </tr>\n",
       "    <tr>\n",
       "      <th>1789360</th>\n",
       "      <td>572</td>\n",
       "      <td>2018-12-17 06:45:40.069</td>\n",
       "      <td>1901</td>\n",
       "      <td>Male</td>\n",
       "      <td>False</td>\n",
       "      <td>Customer</td>\n",
       "      <td>2018-12-17</td>\n",
       "      <td>51</td>\n",
       "      <td>0</td>\n",
       "      <td>6</td>\n",
       "      <td>12</td>\n",
       "      <td>False</td>\n",
       "      <td>117</td>\n",
       "    </tr>\n",
       "    <tr>\n",
       "      <th>1793520</th>\n",
       "      <td>449</td>\n",
       "      <td>2018-12-15 13:04:52.011</td>\n",
       "      <td>1900</td>\n",
       "      <td>Male</td>\n",
       "      <td>True</td>\n",
       "      <td>Subscriber</td>\n",
       "      <td>2018-12-15</td>\n",
       "      <td>50</td>\n",
       "      <td>5</td>\n",
       "      <td>13</td>\n",
       "      <td>12</td>\n",
       "      <td>True</td>\n",
       "      <td>118</td>\n",
       "    </tr>\n",
       "    <tr>\n",
       "      <th>1795267</th>\n",
       "      <td>131</td>\n",
       "      <td>2018-12-14 20:30:55.327</td>\n",
       "      <td>1900</td>\n",
       "      <td>Male</td>\n",
       "      <td>True</td>\n",
       "      <td>Subscriber</td>\n",
       "      <td>2018-12-14</td>\n",
       "      <td>50</td>\n",
       "      <td>4</td>\n",
       "      <td>20</td>\n",
       "      <td>12</td>\n",
       "      <td>True</td>\n",
       "      <td>118</td>\n",
       "    </tr>\n",
       "    <tr>\n",
       "      <th>1795480</th>\n",
       "      <td>664</td>\n",
       "      <td>2018-12-14 19:21:01.506</td>\n",
       "      <td>1900</td>\n",
       "      <td>Male</td>\n",
       "      <td>True</td>\n",
       "      <td>Subscriber</td>\n",
       "      <td>2018-12-14</td>\n",
       "      <td>50</td>\n",
       "      <td>4</td>\n",
       "      <td>19</td>\n",
       "      <td>12</td>\n",
       "      <td>True</td>\n",
       "      <td>118</td>\n",
       "    </tr>\n",
       "    <tr>\n",
       "      <th>1795945</th>\n",
       "      <td>794</td>\n",
       "      <td>2018-12-14 18:00:24.539</td>\n",
       "      <td>1900</td>\n",
       "      <td>Male</td>\n",
       "      <td>True</td>\n",
       "      <td>Subscriber</td>\n",
       "      <td>2018-12-14</td>\n",
       "      <td>50</td>\n",
       "      <td>4</td>\n",
       "      <td>18</td>\n",
       "      <td>12</td>\n",
       "      <td>True</td>\n",
       "      <td>118</td>\n",
       "    </tr>\n",
       "    <tr>\n",
       "      <th>1798933</th>\n",
       "      <td>504</td>\n",
       "      <td>2018-12-14 09:15:24.632</td>\n",
       "      <td>1904</td>\n",
       "      <td>Other</td>\n",
       "      <td>False</td>\n",
       "      <td>Customer</td>\n",
       "      <td>2018-12-14</td>\n",
       "      <td>50</td>\n",
       "      <td>4</td>\n",
       "      <td>9</td>\n",
       "      <td>12</td>\n",
       "      <td>False</td>\n",
       "      <td>114</td>\n",
       "    </tr>\n",
       "    <tr>\n",
       "      <th>1803340</th>\n",
       "      <td>701</td>\n",
       "      <td>2018-12-13 15:46:02.733</td>\n",
       "      <td>1900</td>\n",
       "      <td>Male</td>\n",
       "      <td>True</td>\n",
       "      <td>Subscriber</td>\n",
       "      <td>2018-12-13</td>\n",
       "      <td>50</td>\n",
       "      <td>3</td>\n",
       "      <td>15</td>\n",
       "      <td>12</td>\n",
       "      <td>True</td>\n",
       "      <td>118</td>\n",
       "    </tr>\n",
       "    <tr>\n",
       "      <th>1804612</th>\n",
       "      <td>312</td>\n",
       "      <td>2018-12-13 10:26:27.583</td>\n",
       "      <td>1902</td>\n",
       "      <td>Female</td>\n",
       "      <td>False</td>\n",
       "      <td>Subscriber</td>\n",
       "      <td>2018-12-13</td>\n",
       "      <td>50</td>\n",
       "      <td>3</td>\n",
       "      <td>10</td>\n",
       "      <td>12</td>\n",
       "      <td>True</td>\n",
       "      <td>116</td>\n",
       "    </tr>\n",
       "    <tr>\n",
       "      <th>1809150</th>\n",
       "      <td>481</td>\n",
       "      <td>2018-12-12 17:10:45.682</td>\n",
       "      <td>1900</td>\n",
       "      <td>Male</td>\n",
       "      <td>True</td>\n",
       "      <td>Subscriber</td>\n",
       "      <td>2018-12-12</td>\n",
       "      <td>50</td>\n",
       "      <td>2</td>\n",
       "      <td>17</td>\n",
       "      <td>12</td>\n",
       "      <td>True</td>\n",
       "      <td>118</td>\n",
       "    </tr>\n",
       "    <tr>\n",
       "      <th>1810901</th>\n",
       "      <td>336</td>\n",
       "      <td>2018-12-12 10:42:32.528</td>\n",
       "      <td>1900</td>\n",
       "      <td>Male</td>\n",
       "      <td>True</td>\n",
       "      <td>Subscriber</td>\n",
       "      <td>2018-12-12</td>\n",
       "      <td>50</td>\n",
       "      <td>2</td>\n",
       "      <td>10</td>\n",
       "      <td>12</td>\n",
       "      <td>True</td>\n",
       "      <td>118</td>\n",
       "    </tr>\n",
       "    <tr>\n",
       "      <th>1813684</th>\n",
       "      <td>671</td>\n",
       "      <td>2018-12-11 20:41:47.613</td>\n",
       "      <td>1900</td>\n",
       "      <td>Male</td>\n",
       "      <td>True</td>\n",
       "      <td>Subscriber</td>\n",
       "      <td>2018-12-11</td>\n",
       "      <td>50</td>\n",
       "      <td>1</td>\n",
       "      <td>20</td>\n",
       "      <td>12</td>\n",
       "      <td>True</td>\n",
       "      <td>118</td>\n",
       "    </tr>\n",
       "    <tr>\n",
       "      <th>1814562</th>\n",
       "      <td>525</td>\n",
       "      <td>2018-12-11 18:18:16.641</td>\n",
       "      <td>1900</td>\n",
       "      <td>Male</td>\n",
       "      <td>True</td>\n",
       "      <td>Subscriber</td>\n",
       "      <td>2018-12-11</td>\n",
       "      <td>50</td>\n",
       "      <td>1</td>\n",
       "      <td>18</td>\n",
       "      <td>12</td>\n",
       "      <td>True</td>\n",
       "      <td>118</td>\n",
       "    </tr>\n",
       "    <tr>\n",
       "      <th>1817007</th>\n",
       "      <td>314</td>\n",
       "      <td>2018-12-11 11:12:54.170</td>\n",
       "      <td>1920</td>\n",
       "      <td>Male</td>\n",
       "      <td>False</td>\n",
       "      <td>Subscriber</td>\n",
       "      <td>2018-12-11</td>\n",
       "      <td>50</td>\n",
       "      <td>1</td>\n",
       "      <td>11</td>\n",
       "      <td>12</td>\n",
       "      <td>True</td>\n",
       "      <td>98</td>\n",
       "    </tr>\n",
       "    <tr>\n",
       "      <th>1821404</th>\n",
       "      <td>438</td>\n",
       "      <td>2018-12-10 17:13:47.757</td>\n",
       "      <td>1900</td>\n",
       "      <td>Male</td>\n",
       "      <td>True</td>\n",
       "      <td>Subscriber</td>\n",
       "      <td>2018-12-10</td>\n",
       "      <td>50</td>\n",
       "      <td>0</td>\n",
       "      <td>17</td>\n",
       "      <td>12</td>\n",
       "      <td>True</td>\n",
       "      <td>118</td>\n",
       "    </tr>\n",
       "    <tr>\n",
       "      <th>1826766</th>\n",
       "      <td>339</td>\n",
       "      <td>2018-12-09 11:23:19.148</td>\n",
       "      <td>1900</td>\n",
       "      <td>Other</td>\n",
       "      <td>False</td>\n",
       "      <td>Customer</td>\n",
       "      <td>2018-12-09</td>\n",
       "      <td>49</td>\n",
       "      <td>6</td>\n",
       "      <td>11</td>\n",
       "      <td>12</td>\n",
       "      <td>False</td>\n",
       "      <td>118</td>\n",
       "    </tr>\n",
       "    <tr>\n",
       "      <th>1827756</th>\n",
       "      <td>192</td>\n",
       "      <td>2018-12-08 19:12:18.652</td>\n",
       "      <td>1900</td>\n",
       "      <td>Male</td>\n",
       "      <td>True</td>\n",
       "      <td>Subscriber</td>\n",
       "      <td>2018-12-08</td>\n",
       "      <td>49</td>\n",
       "      <td>5</td>\n",
       "      <td>19</td>\n",
       "      <td>12</td>\n",
       "      <td>True</td>\n",
       "      <td>118</td>\n",
       "    </tr>\n",
       "    <tr>\n",
       "      <th>1827773</th>\n",
       "      <td>162</td>\n",
       "      <td>2018-12-08 19:04:42.983</td>\n",
       "      <td>1900</td>\n",
       "      <td>Male</td>\n",
       "      <td>True</td>\n",
       "      <td>Subscriber</td>\n",
       "      <td>2018-12-08</td>\n",
       "      <td>49</td>\n",
       "      <td>5</td>\n",
       "      <td>19</td>\n",
       "      <td>12</td>\n",
       "      <td>True</td>\n",
       "      <td>118</td>\n",
       "    </tr>\n",
       "    <tr>\n",
       "      <th>1830855</th>\n",
       "      <td>276</td>\n",
       "      <td>2018-12-07 19:59:47.020</td>\n",
       "      <td>1900</td>\n",
       "      <td>Female</td>\n",
       "      <td>False</td>\n",
       "      <td>Subscriber</td>\n",
       "      <td>2018-12-07</td>\n",
       "      <td>49</td>\n",
       "      <td>4</td>\n",
       "      <td>19</td>\n",
       "      <td>12</td>\n",
       "      <td>True</td>\n",
       "      <td>118</td>\n",
       "    </tr>\n",
       "    <tr>\n",
       "      <th>1830891</th>\n",
       "      <td>563</td>\n",
       "      <td>2018-12-07 19:42:38.987</td>\n",
       "      <td>1920</td>\n",
       "      <td>Male</td>\n",
       "      <td>False</td>\n",
       "      <td>Customer</td>\n",
       "      <td>2018-12-07</td>\n",
       "      <td>49</td>\n",
       "      <td>4</td>\n",
       "      <td>19</td>\n",
       "      <td>12</td>\n",
       "      <td>False</td>\n",
       "      <td>98</td>\n",
       "    </tr>\n",
       "    <tr>\n",
       "      <th>1836472</th>\n",
       "      <td>267</td>\n",
       "      <td>2018-12-06 20:32:49.479</td>\n",
       "      <td>1900</td>\n",
       "      <td>Male</td>\n",
       "      <td>True</td>\n",
       "      <td>Subscriber</td>\n",
       "      <td>2018-12-06</td>\n",
       "      <td>49</td>\n",
       "      <td>3</td>\n",
       "      <td>20</td>\n",
       "      <td>12</td>\n",
       "      <td>True</td>\n",
       "      <td>118</td>\n",
       "    </tr>\n",
       "    <tr>\n",
       "      <th>1859139</th>\n",
       "      <td>196</td>\n",
       "      <td>2018-12-02 17:52:05.021</td>\n",
       "      <td>1900</td>\n",
       "      <td>Male</td>\n",
       "      <td>True</td>\n",
       "      <td>Subscriber</td>\n",
       "      <td>2018-12-02</td>\n",
       "      <td>48</td>\n",
       "      <td>6</td>\n",
       "      <td>17</td>\n",
       "      <td>12</td>\n",
       "      <td>True</td>\n",
       "      <td>118</td>\n",
       "    </tr>\n",
       "    <tr>\n",
       "      <th>1859247</th>\n",
       "      <td>497</td>\n",
       "      <td>2018-12-02 17:07:54.109</td>\n",
       "      <td>1900</td>\n",
       "      <td>Male</td>\n",
       "      <td>True</td>\n",
       "      <td>Subscriber</td>\n",
       "      <td>2018-12-02</td>\n",
       "      <td>48</td>\n",
       "      <td>6</td>\n",
       "      <td>17</td>\n",
       "      <td>12</td>\n",
       "      <td>True</td>\n",
       "      <td>118</td>\n",
       "    </tr>\n",
       "    <tr>\n",
       "      <th>1859869</th>\n",
       "      <td>924</td>\n",
       "      <td>2018-12-02 14:19:17.358</td>\n",
       "      <td>1900</td>\n",
       "      <td>Male</td>\n",
       "      <td>False</td>\n",
       "      <td>Subscriber</td>\n",
       "      <td>2018-12-02</td>\n",
       "      <td>48</td>\n",
       "      <td>6</td>\n",
       "      <td>14</td>\n",
       "      <td>12</td>\n",
       "      <td>True</td>\n",
       "      <td>118</td>\n",
       "    </tr>\n",
       "    <tr>\n",
       "      <th>1862588</th>\n",
       "      <td>132</td>\n",
       "      <td>2018-12-01 14:48:34.348</td>\n",
       "      <td>1900</td>\n",
       "      <td>Male</td>\n",
       "      <td>True</td>\n",
       "      <td>Subscriber</td>\n",
       "      <td>2018-12-01</td>\n",
       "      <td>48</td>\n",
       "      <td>5</td>\n",
       "      <td>14</td>\n",
       "      <td>12</td>\n",
       "      <td>True</td>\n",
       "      <td>118</td>\n",
       "    </tr>\n",
       "    <tr>\n",
       "      <th>1863208</th>\n",
       "      <td>392</td>\n",
       "      <td>2018-12-01 11:40:36.454</td>\n",
       "      <td>1900</td>\n",
       "      <td>Female</td>\n",
       "      <td>False</td>\n",
       "      <td>Subscriber</td>\n",
       "      <td>2018-12-01</td>\n",
       "      <td>48</td>\n",
       "      <td>5</td>\n",
       "      <td>11</td>\n",
       "      <td>12</td>\n",
       "      <td>True</td>\n",
       "      <td>118</td>\n",
       "    </tr>\n",
       "    <tr>\n",
       "      <th>1863253</th>\n",
       "      <td>410</td>\n",
       "      <td>2018-12-01 11:17:31.491</td>\n",
       "      <td>1900</td>\n",
       "      <td>Female</td>\n",
       "      <td>False</td>\n",
       "      <td>Subscriber</td>\n",
       "      <td>2018-12-01</td>\n",
       "      <td>48</td>\n",
       "      <td>5</td>\n",
       "      <td>11</td>\n",
       "      <td>12</td>\n",
       "      <td>True</td>\n",
       "      <td>118</td>\n",
       "    </tr>\n",
       "  </tbody>\n",
       "</table>\n",
       "<p>1393 rows × 13 columns</p>\n",
       "</div>"
      ],
      "text/plain": [
       "         duration_sec              start_time  member_birth_year  \\\n",
       "93                465 2018-01-31 21:56:17.633               1911   \n",
       "1065              549 2018-01-31 18:01:24.729               1911   \n",
       "1254              568 2018-01-31 17:40:47.701               1911   \n",
       "1532              658 2018-01-31 17:11:03.424               1902   \n",
       "2983             1681 2018-01-31 09:37:00.045               1911   \n",
       "3409              549 2018-01-31 09:02:28.385               1902   \n",
       "3768             1215 2018-01-31 08:17:13.815               1911   \n",
       "5343              787 2018-01-30 18:25:32.383               1911   \n",
       "6043              610 2018-01-30 17:13:48.813               1902   \n",
       "6196             1325 2018-01-30 16:48:10.170               1900   \n",
       "6738              497 2018-01-30 15:07:36.689               1900   \n",
       "7224             3824 2018-01-30 11:13:56.445               1900   \n",
       "7461             2288 2018-01-30 10:06:01.270               1900   \n",
       "7876              384 2018-01-30 09:17:20.092               1902   \n",
       "7894              514 2018-01-30 09:13:04.846               1902   \n",
       "8656              677 2018-01-30 08:06:22.642               1924   \n",
       "8682              574 2018-01-30 08:05:41.762               1911   \n",
       "9736              613 2018-01-29 19:08:48.354               1924   \n",
       "10631             644 2018-01-29 17:16:43.975               1902   \n",
       "10705             661 2018-01-29 17:09:28.068               1911   \n",
       "11178             300 2018-01-29 15:58:32.205               1900   \n",
       "11944             968 2018-01-29 10:41:48.721               1911   \n",
       "12111             258 2018-01-29 10:04:53.648               1900   \n",
       "12395             343 2018-01-29 09:24:12.117               1902   \n",
       "12636             468 2018-01-29 09:00:44.345               1902   \n",
       "13180             633 2018-01-29 08:07:04.420               1924   \n",
       "13404             708 2018-01-29 07:30:32.767               1911   \n",
       "13699             522 2018-01-28 22:44:10.425               1911   \n",
       "14862             687 2018-01-28 14:10:28.619               1900   \n",
       "14980            1378 2018-01-28 13:24:44.058               1900   \n",
       "...               ...                     ...                ...   \n",
       "1780303          3500 2018-12-18 09:54:06.401               1900   \n",
       "1780432           668 2018-12-18 10:15:47.079               1902   \n",
       "1780884           391 2018-12-18 09:22:04.980               1900   \n",
       "1782219           504 2018-12-18 07:44:25.409               1901   \n",
       "1789360           572 2018-12-17 06:45:40.069               1901   \n",
       "1793520           449 2018-12-15 13:04:52.011               1900   \n",
       "1795267           131 2018-12-14 20:30:55.327               1900   \n",
       "1795480           664 2018-12-14 19:21:01.506               1900   \n",
       "1795945           794 2018-12-14 18:00:24.539               1900   \n",
       "1798933           504 2018-12-14 09:15:24.632               1904   \n",
       "1803340           701 2018-12-13 15:46:02.733               1900   \n",
       "1804612           312 2018-12-13 10:26:27.583               1902   \n",
       "1809150           481 2018-12-12 17:10:45.682               1900   \n",
       "1810901           336 2018-12-12 10:42:32.528               1900   \n",
       "1813684           671 2018-12-11 20:41:47.613               1900   \n",
       "1814562           525 2018-12-11 18:18:16.641               1900   \n",
       "1817007           314 2018-12-11 11:12:54.170               1920   \n",
       "1821404           438 2018-12-10 17:13:47.757               1900   \n",
       "1826766           339 2018-12-09 11:23:19.148               1900   \n",
       "1827756           192 2018-12-08 19:12:18.652               1900   \n",
       "1827773           162 2018-12-08 19:04:42.983               1900   \n",
       "1830855           276 2018-12-07 19:59:47.020               1900   \n",
       "1830891           563 2018-12-07 19:42:38.987               1920   \n",
       "1836472           267 2018-12-06 20:32:49.479               1900   \n",
       "1859139           196 2018-12-02 17:52:05.021               1900   \n",
       "1859247           497 2018-12-02 17:07:54.109               1900   \n",
       "1859869           924 2018-12-02 14:19:17.358               1900   \n",
       "1862588           132 2018-12-01 14:48:34.348               1900   \n",
       "1863208           392 2018-12-01 11:40:36.454               1900   \n",
       "1863253           410 2018-12-01 11:17:31.491               1900   \n",
       "\n",
       "        member_gender  bike_share_for_all_trip   user_type  start_date  \\\n",
       "93              Other                    False  Subscriber  2018-01-31   \n",
       "1065            Other                    False  Subscriber  2018-01-31   \n",
       "1254            Other                    False  Subscriber  2018-01-31   \n",
       "1532             Male                    False  Subscriber  2018-01-31   \n",
       "2983            Other                    False  Subscriber  2018-01-31   \n",
       "3409             Male                    False  Subscriber  2018-01-31   \n",
       "3768            Other                    False  Subscriber  2018-01-31   \n",
       "5343            Other                    False  Subscriber  2018-01-30   \n",
       "6043             Male                    False  Subscriber  2018-01-30   \n",
       "6196            Other                    False    Customer  2018-01-30   \n",
       "6738            Other                    False  Subscriber  2018-01-30   \n",
       "7224            Other                    False    Customer  2018-01-30   \n",
       "7461            Other                    False    Customer  2018-01-30   \n",
       "7876           Female                    False  Subscriber  2018-01-30   \n",
       "7894             Male                    False  Subscriber  2018-01-30   \n",
       "8656             Male                    False  Subscriber  2018-01-30   \n",
       "8682            Other                    False  Subscriber  2018-01-30   \n",
       "9736             Male                    False  Subscriber  2018-01-29   \n",
       "10631            Male                    False  Subscriber  2018-01-29   \n",
       "10705           Other                    False  Subscriber  2018-01-29   \n",
       "11178           Other                    False    Customer  2018-01-29   \n",
       "11944           Other                    False  Subscriber  2018-01-29   \n",
       "12111           Other                    False    Customer  2018-01-29   \n",
       "12395          Female                    False  Subscriber  2018-01-29   \n",
       "12636            Male                    False  Subscriber  2018-01-29   \n",
       "13180            Male                    False  Subscriber  2018-01-29   \n",
       "13404           Other                    False  Subscriber  2018-01-29   \n",
       "13699           Other                    False  Subscriber  2018-01-28   \n",
       "14862            Male                    False  Subscriber  2018-01-28   \n",
       "14980            Male                    False  Subscriber  2018-01-28   \n",
       "...               ...                      ...         ...         ...   \n",
       "1780303          Male                    False    Customer  2018-12-18   \n",
       "1780432        Female                    False  Subscriber  2018-12-18   \n",
       "1780884          Male                    False    Customer  2018-12-18   \n",
       "1782219          Male                    False    Customer  2018-12-18   \n",
       "1789360          Male                    False    Customer  2018-12-17   \n",
       "1793520          Male                     True  Subscriber  2018-12-15   \n",
       "1795267          Male                     True  Subscriber  2018-12-14   \n",
       "1795480          Male                     True  Subscriber  2018-12-14   \n",
       "1795945          Male                     True  Subscriber  2018-12-14   \n",
       "1798933         Other                    False    Customer  2018-12-14   \n",
       "1803340          Male                     True  Subscriber  2018-12-13   \n",
       "1804612        Female                    False  Subscriber  2018-12-13   \n",
       "1809150          Male                     True  Subscriber  2018-12-12   \n",
       "1810901          Male                     True  Subscriber  2018-12-12   \n",
       "1813684          Male                     True  Subscriber  2018-12-11   \n",
       "1814562          Male                     True  Subscriber  2018-12-11   \n",
       "1817007          Male                    False  Subscriber  2018-12-11   \n",
       "1821404          Male                     True  Subscriber  2018-12-10   \n",
       "1826766         Other                    False    Customer  2018-12-09   \n",
       "1827756          Male                     True  Subscriber  2018-12-08   \n",
       "1827773          Male                     True  Subscriber  2018-12-08   \n",
       "1830855        Female                    False  Subscriber  2018-12-07   \n",
       "1830891          Male                    False    Customer  2018-12-07   \n",
       "1836472          Male                     True  Subscriber  2018-12-06   \n",
       "1859139          Male                     True  Subscriber  2018-12-02   \n",
       "1859247          Male                     True  Subscriber  2018-12-02   \n",
       "1859869          Male                    False  Subscriber  2018-12-02   \n",
       "1862588          Male                     True  Subscriber  2018-12-01   \n",
       "1863208        Female                    False  Subscriber  2018-12-01   \n",
       "1863253        Female                    False  Subscriber  2018-12-01   \n",
       "\n",
       "         start_week  start_weekday  start_hour  start_month  is_vip  age  \n",
       "93                5              2          21            1    True  107  \n",
       "1065              5              2          18            1    True  107  \n",
       "1254              5              2          17            1    True  107  \n",
       "1532              5              2          17            1    True  116  \n",
       "2983              5              2           9            1    True  107  \n",
       "3409              5              2           9            1    True  116  \n",
       "3768              5              2           8            1    True  107  \n",
       "5343              5              1          18            1    True  107  \n",
       "6043              5              1          17            1    True  116  \n",
       "6196              5              1          16            1   False  118  \n",
       "6738              5              1          15            1    True  118  \n",
       "7224              5              1          11            1   False  118  \n",
       "7461              5              1          10            1   False  118  \n",
       "7876              5              1           9            1    True  116  \n",
       "7894              5              1           9            1    True  116  \n",
       "8656              5              1           8            1    True   94  \n",
       "8682              5              1           8            1    True  107  \n",
       "9736              5              0          19            1    True   94  \n",
       "10631             5              0          17            1    True  116  \n",
       "10705             5              0          17            1    True  107  \n",
       "11178             5              0          15            1   False  118  \n",
       "11944             5              0          10            1    True  107  \n",
       "12111             5              0          10            1   False  118  \n",
       "12395             5              0           9            1    True  116  \n",
       "12636             5              0           9            1    True  116  \n",
       "13180             5              0           8            1    True   94  \n",
       "13404             5              0           7            1    True  107  \n",
       "13699             4              6          22            1    True  107  \n",
       "14862             4              6          14            1    True  118  \n",
       "14980             4              6          13            1    True  118  \n",
       "...             ...            ...         ...          ...     ...  ...  \n",
       "1780303          51              1           9           12   False  118  \n",
       "1780432          51              1          10           12    True  116  \n",
       "1780884          51              1           9           12   False  118  \n",
       "1782219          51              1           7           12   False  117  \n",
       "1789360          51              0           6           12   False  117  \n",
       "1793520          50              5          13           12    True  118  \n",
       "1795267          50              4          20           12    True  118  \n",
       "1795480          50              4          19           12    True  118  \n",
       "1795945          50              4          18           12    True  118  \n",
       "1798933          50              4           9           12   False  114  \n",
       "1803340          50              3          15           12    True  118  \n",
       "1804612          50              3          10           12    True  116  \n",
       "1809150          50              2          17           12    True  118  \n",
       "1810901          50              2          10           12    True  118  \n",
       "1813684          50              1          20           12    True  118  \n",
       "1814562          50              1          18           12    True  118  \n",
       "1817007          50              1          11           12    True   98  \n",
       "1821404          50              0          17           12    True  118  \n",
       "1826766          49              6          11           12   False  118  \n",
       "1827756          49              5          19           12    True  118  \n",
       "1827773          49              5          19           12    True  118  \n",
       "1830855          49              4          19           12    True  118  \n",
       "1830891          49              4          19           12   False   98  \n",
       "1836472          49              3          20           12    True  118  \n",
       "1859139          48              6          17           12    True  118  \n",
       "1859247          48              6          17           12    True  118  \n",
       "1859869          48              6          14           12    True  118  \n",
       "1862588          48              5          14           12    True  118  \n",
       "1863208          48              5          11           12    True  118  \n",
       "1863253          48              5          11           12    True  118  \n",
       "\n",
       "[1393 rows x 13 columns]"
      ]
     },
     "execution_count": 32,
     "metadata": {},
     "output_type": "execute_result"
    }
   ],
   "source": [
    "df_copy[df_copy['age']>90]"
   ]
  },
  {
   "cell_type": "markdown",
   "metadata": {},
   "source": [
    "这些异常值的数量不是特别多，而且没办法判断是什么原因导致的，所以直接删除处理，只保留小于 90 岁的数据："
   ]
  },
  {
   "cell_type": "code",
   "execution_count": 33,
   "metadata": {},
   "outputs": [
    {
     "data": {
      "text/plain": [
       "1740143"
      ]
     },
     "execution_count": 33,
     "metadata": {},
     "output_type": "execute_result"
    }
   ],
   "source": [
    "df_copy = df_copy[df_copy['age']<90]\n",
    "df_copy.shape[0]"
   ]
  },
  {
   "cell_type": "code",
   "execution_count": 34,
   "metadata": {},
   "outputs": [
    {
     "data": {
      "image/png": "[encoded data removed]",
      "text/plain": [
       "<Figure size 432x288 with 1 Axes>"
      ]
     },
     "metadata": {},
     "output_type": "display_data"
    }
   ],
   "source": [
    "df_copy['age'].hist();"
   ]
  },
  {
   "cell_type": "code",
   "execution_count": 35,
   "metadata": {},
   "outputs": [
    {
     "data": {
      "text/plain": [
       "count    1.740143e+06\n",
       "mean     3.487694e+01\n",
       "std      1.022111e+01\n",
       "min      1.800000e+01\n",
       "25%      2.700000e+01\n",
       "50%      3.300000e+01\n",
       "75%      4.000000e+01\n",
       "max      8.800000e+01\n",
       "Name: age, dtype: float64"
      ]
     },
     "execution_count": 35,
     "metadata": {},
     "output_type": "execute_result"
    }
   ],
   "source": [
    "df_copy['age'].describe()"
   ]
  },
  {
   "cell_type": "markdown",
   "metadata": {},
   "source": [
    "最小值是 18 岁，猜测这个共享单车系统是要求成年才可以注册的。大部分人（75%）都是 40 岁以下。"
   ]
  },
  {
   "cell_type": "markdown",
   "metadata": {},
   "source": [
    "### 对于你感兴趣的变量，存在什么异常吗？需不需要执行变换操作？\n",
    "\n",
    "> 感兴趣的变量是分类变量，其实想要探索是否会员，可以直接将其转换为布尔值，方便后续的探索\n",
    "\n",
    "### 在你探索的特征中，是否存在异常分布？你对这些数据执行了什么整理操作？请给出整理操作的原因。\n",
    "\n",
    "> 探索的其他特征中，年龄有一些异常，因为数据占比较小，又没有探索出异常值出现的原因，所以目前只保留了 90 以下的年龄数据。"
   ]
  },
  {
   "cell_type": "markdown",
   "metadata": {},
   "source": [
    "## 双变量探索"
   ]
  },
  {
   "cell_type": "code",
   "execution_count": 52,
   "metadata": {},
   "outputs": [],
   "source": [
    "def variable_visulization(df, feature):\n",
    "    '''各个因素对注册会员的影响分析对比柱状图组合'''\n",
    "    f, ax = plt.subplots(1,2,figsize=(16,5))\n",
    "    # 左侧显示注册会员人数对比柱状图\n",
    "    df.groupby([feature,'is_vip'])['is_vip'].count().unstack().plot(kind='bar',ax=ax[0])\n",
    "    ax[0].set_ylabel('Number of users')\n",
    "    ax[0].set_title(feature + ' VS Vip VS Count')\n",
    "    # 右侧显示注册会员几率柱状图\n",
    "    df.groupby(feature)['is_vip'].mean().plot(kind='bar',ax = ax[1])\n",
    "    ax[1].set_ylabel('Vip Rate')\n",
    "    ax[1].set_title(feature + ' VS Vip Rate')\n",
    "    plt.show()"
   ]
  },
  {
   "cell_type": "code",
   "execution_count": 36,
   "metadata": {},
   "outputs": [
    {
     "name": "stdout",
     "output_type": "stream",
     "text": [
      "<class 'pandas.core.frame.DataFrame'>\n",
      "Int64Index: 1740143 entries, 0 to 1863719\n",
      "Data columns (total 13 columns):\n",
      "duration_sec               int64\n",
      "start_time                 datetime64[ns]\n",
      "member_birth_year          int64\n",
      "member_gender              object\n",
      "bike_share_for_all_trip    bool\n",
      "user_type                  object\n",
      "start_date                 object\n",
      "start_week                 int64\n",
      "start_weekday              int64\n",
      "start_hour                 int64\n",
      "start_month                int64\n",
      "is_vip                     bool\n",
      "age                        int64\n",
      "dtypes: bool(2), datetime64[ns](1), int64(7), object(3)\n",
      "memory usage: 162.6+ MB\n"
     ]
    }
   ],
   "source": [
    "df_copy.info()"
   ]
  },
  {
   "cell_type": "markdown",
   "metadata": {},
   "source": [
    "#### 年龄 vs 会员"
   ]
  },
  {
   "cell_type": "code",
   "execution_count": 78,
   "metadata": {},
   "outputs": [
    {
     "data": {
      "image/png": "[encoded data removed]",
      "text/plain": [
       "<Figure size 504x360 with 1 Axes>"
      ]
     },
     "metadata": {},
     "output_type": "display_data"
    }
   ],
   "source": [
    "df_copy.boxplot(column='age',by='is_vip',showfliers=False,figsize=(7,5))\n",
    "plt.ylabel('age');"
   ]
  },
  {
   "cell_type": "code",
   "execution_count": 85,
   "metadata": {},
   "outputs": [
    {
     "data": {
      "text/html": [
       "<div>\n",
       "<style scoped>\n",
       "    .dataframe tbody tr th:only-of-type {\n",
       "        vertical-align: middle;\n",
       "    }\n",
       "\n",
       "    .dataframe tbody tr th {\n",
       "        vertical-align: top;\n",
       "    }\n",
       "\n",
       "    .dataframe thead th {\n",
       "        text-align: right;\n",
       "    }\n",
       "</style>\n",
       "<table border=\"1\" class=\"dataframe\">\n",
       "  <thead>\n",
       "    <tr style=\"text-align: right;\">\n",
       "      <th></th>\n",
       "      <th>count</th>\n",
       "      <th>mean</th>\n",
       "      <th>std</th>\n",
       "      <th>min</th>\n",
       "      <th>25%</th>\n",
       "      <th>50%</th>\n",
       "      <th>75%</th>\n",
       "      <th>max</th>\n",
       "    </tr>\n",
       "    <tr>\n",
       "      <th>is_vip</th>\n",
       "      <th></th>\n",
       "      <th></th>\n",
       "      <th></th>\n",
       "      <th></th>\n",
       "      <th></th>\n",
       "      <th></th>\n",
       "      <th></th>\n",
       "      <th></th>\n",
       "    </tr>\n",
       "  </thead>\n",
       "  <tbody>\n",
       "    <tr>\n",
       "      <th>False</th>\n",
       "      <td>199038.0</td>\n",
       "      <td>32.903807</td>\n",
       "      <td>9.380574</td>\n",
       "      <td>18.0</td>\n",
       "      <td>26.0</td>\n",
       "      <td>31.0</td>\n",
       "      <td>37.0</td>\n",
       "      <td>88.0</td>\n",
       "    </tr>\n",
       "    <tr>\n",
       "      <th>True</th>\n",
       "      <td>1541105.0</td>\n",
       "      <td>35.131778</td>\n",
       "      <td>10.297155</td>\n",
       "      <td>18.0</td>\n",
       "      <td>28.0</td>\n",
       "      <td>33.0</td>\n",
       "      <td>41.0</td>\n",
       "      <td>87.0</td>\n",
       "    </tr>\n",
       "  </tbody>\n",
       "</table>\n",
       "</div>"
      ],
      "text/plain": [
       "            count       mean        std   min   25%   50%   75%   max\n",
       "is_vip                                                               \n",
       "False    199038.0  32.903807   9.380574  18.0  26.0  31.0  37.0  88.0\n",
       "True    1541105.0  35.131778  10.297155  18.0  28.0  33.0  41.0  87.0"
      ]
     },
     "execution_count": 85,
     "metadata": {},
     "output_type": "execute_result"
    }
   ],
   "source": [
    "df_copy.groupby('is_vip')['age'].describe()"
   ]
  },
  {
   "cell_type": "markdown",
   "metadata": {},
   "source": [
    "从上面的箱线图和描述性统计信息可以看到，会员的年龄总体来说比非会员要大，均值、Q1、Q2、Q3 都是会员的值大。"
   ]
  },
  {
   "cell_type": "code",
   "execution_count": 88,
   "metadata": {},
   "outputs": [
    {
     "data": {
      "image/png": "[encoded data removed]",
      "text/plain": [
       "<Figure size 504x360 with 1 Axes>"
      ]
     },
     "metadata": {},
     "output_type": "display_data"
    }
   ],
   "source": [
    "bins=[18,28,38,48,58,68,78,88]\n",
    "df_copy[df_copy['is_vip']==True]['age'].hist(bins=bins,alpha=0.5,figsize=(7,5),label='VIP')\n",
    "df_copy[df_copy['is_vip']==False]['age'].hist(bins=bins,alpha=0.5,figsize=(7,5),label='NotVIP')\n",
    "plt.legend()\n",
    "plt.xlabel('Age')\n",
    "plt.ylabel('Number of users');"
   ]
  },
  {
   "cell_type": "markdown",
   "metadata": {},
   "source": [
    "通过直方图的对比，可以看到非会员的年龄分布较为均匀，而会员的年龄更集中在 28-38 的范围内。\n",
    "#### 骑行时长 vs 会员"
   ]
  },
  {
   "cell_type": "code",
   "execution_count": 75,
   "metadata": {},
   "outputs": [
    {
     "data": {
      "image/png": "[encoded data removed]",
      "text/plain": [
       "<Figure size 504x360 with 1 Axes>"
      ]
     },
     "metadata": {},
     "output_type": "display_data"
    }
   ],
   "source": [
    "df_copy.boxplot(column='duration_sec',by='is_vip',showfliers=False,figsize=(7,5))\n",
    "plt.ylabel('duration_sec');"
   ]
  },
  {
   "cell_type": "code",
   "execution_count": 86,
   "metadata": {},
   "outputs": [
    {
     "data": {
      "text/html": [
       "<div>\n",
       "<style scoped>\n",
       "    .dataframe tbody tr th:only-of-type {\n",
       "        vertical-align: middle;\n",
       "    }\n",
       "\n",
       "    .dataframe tbody tr th {\n",
       "        vertical-align: top;\n",
       "    }\n",
       "\n",
       "    .dataframe thead th {\n",
       "        text-align: right;\n",
       "    }\n",
       "</style>\n",
       "<table border=\"1\" class=\"dataframe\">\n",
       "  <thead>\n",
       "    <tr style=\"text-align: right;\">\n",
       "      <th></th>\n",
       "      <th>count</th>\n",
       "      <th>mean</th>\n",
       "      <th>std</th>\n",
       "      <th>min</th>\n",
       "      <th>25%</th>\n",
       "      <th>50%</th>\n",
       "      <th>75%</th>\n",
       "      <th>max</th>\n",
       "    </tr>\n",
       "    <tr>\n",
       "      <th>is_vip</th>\n",
       "      <th></th>\n",
       "      <th></th>\n",
       "      <th></th>\n",
       "      <th></th>\n",
       "      <th></th>\n",
       "      <th></th>\n",
       "      <th></th>\n",
       "      <th></th>\n",
       "    </tr>\n",
       "  </thead>\n",
       "  <tbody>\n",
       "    <tr>\n",
       "      <th>False</th>\n",
       "      <td>199038.0</td>\n",
       "      <td>1601.146655</td>\n",
       "      <td>4304.799340</td>\n",
       "      <td>61.0</td>\n",
       "      <td>550.0</td>\n",
       "      <td>876.0</td>\n",
       "      <td>1414.0</td>\n",
       "      <td>86208.0</td>\n",
       "    </tr>\n",
       "    <tr>\n",
       "      <th>True</th>\n",
       "      <td>1541105.0</td>\n",
       "      <td>665.863948</td>\n",
       "      <td>1329.908973</td>\n",
       "      <td>61.0</td>\n",
       "      <td>330.0</td>\n",
       "      <td>515.0</td>\n",
       "      <td>783.0</td>\n",
       "      <td>86281.0</td>\n",
       "    </tr>\n",
       "  </tbody>\n",
       "</table>\n",
       "</div>"
      ],
      "text/plain": [
       "            count         mean          std   min    25%    50%     75%  \\\n",
       "is_vip                                                                    \n",
       "False    199038.0  1601.146655  4304.799340  61.0  550.0  876.0  1414.0   \n",
       "True    1541105.0   665.863948  1329.908973  61.0  330.0  515.0   783.0   \n",
       "\n",
       "            max  \n",
       "is_vip           \n",
       "False   86208.0  \n",
       "True    86281.0  "
      ]
     },
     "execution_count": 86,
     "metadata": {},
     "output_type": "execute_result"
    }
   ],
   "source": [
    "df_copy.groupby('is_vip')['duration_sec'].describe()"
   ]
  },
  {
   "cell_type": "markdown",
   "metadata": {},
   "source": [
    "从上面的箱线图和描述性统计信息可以看到，会员的骑行时长相对比较短，绝大多数都在 1500 秒以下，也就是小于 25 分钟。75% 的人骑行时长都在 13 分钟以下。"
   ]
  },
  {
   "cell_type": "code",
   "execution_count": 87,
   "metadata": {},
   "outputs": [
    {
     "data": {
      "image/png": "[encoded data removed]",
      "text/plain": [
       "<Figure size 504x360 with 1 Axes>"
      ]
     },
     "metadata": {},
     "output_type": "display_data"
    }
   ],
   "source": [
    "bin_edges = 10 ** np.arange(1, np.log10(df_copy.duration_sec.max())+0.1, 0.1)\n",
    "df_copy[df_copy['is_vip']==True]['duration_sec'].hist(bins=bin_edges,alpha=0.5,figsize=(7,5),label='VIP')\n",
    "df_copy[df_copy['is_vip']==False]['duration_sec'].hist(bins=bin_edges,alpha=0.5,figsize=(7,5),label='NotVIP')\n",
    "plt.xscale('log')\n",
    "tick_locs = [60, 180, 300, 600, 1200, 1800, 3600, 7200, 18000]\n",
    "tick_labels = ['1min','3min','5min','10min','20min','30min','60min','120min','300min']\n",
    "plt.legend()\n",
    "plt.xticks(tick_locs, tick_labels, rotation=90)\n",
    "plt.xlabel('Duration')\n",
    "plt.ylabel('Number of users');"
   ]
  },
  {
   "cell_type": "markdown",
   "metadata": {},
   "source": [
    "通过上方直方图对比，可以看到非会员的分布更加均匀且时长偏长，会员的时间非常集中在 3-20 分钟的范围内。\n",
    "#### 会员 vs 性别"
   ]
  },
  {
   "cell_type": "code",
   "execution_count": 53,
   "metadata": {},
   "outputs": [
    {
     "data": {
      "image/png": "[encoded data removed]",
      "text/plain": [
       "<Figure size 1152x360 with 2 Axes>"
      ]
     },
     "metadata": {},
     "output_type": "display_data"
    }
   ],
   "source": [
    "variable_visulization(df_copy,'member_gender')"
   ]
  },
  {
   "cell_type": "markdown",
   "metadata": {},
   "source": [
    "差异不是很大，相对来说男性的会员比例稍多。\n",
    "#### 会员 vs bike share for all 服务"
   ]
  },
  {
   "cell_type": "code",
   "execution_count": 54,
   "metadata": {},
   "outputs": [
    {
     "data": {
      "image/png": "[encoded data removed]",
      "text/plain": [
       "<Figure size 1152x360 with 2 Axes>"
      ]
     },
     "metadata": {},
     "output_type": "display_data"
    }
   ],
   "source": [
    "variable_visulization(df_copy,'bike_share_for_all_trip')"
   ]
  },
  {
   "cell_type": "markdown",
   "metadata": {},
   "source": [
    "bike share for all 服务全部属于会员，应该是因为该服务也属于会员的一种。"
   ]
  },
  {
   "cell_type": "code",
   "execution_count": 55,
   "metadata": {},
   "outputs": [
    {
     "data": {
      "image/png": "[encoded data removed]",
      "text/plain": [
       "<Figure size 1152x360 with 2 Axes>"
      ]
     },
     "metadata": {},
     "output_type": "display_data"
    }
   ],
   "source": [
    "variable_visulization(df_copy,'start_weekday')"
   ]
  },
  {
   "cell_type": "markdown",
   "metadata": {},
   "source": []
  },
  {
   "cell_type": "code",
   "execution_count": 56,
   "metadata": {},
   "outputs": [
    {
     "data": {
      "image/png": "[encoded data removed]",
      "text/plain": [
       "<Figure size 1152x360 with 2 Axes>"
      ]
     },
     "metadata": {},
     "output_type": "display_data"
    }
   ],
   "source": [
    "variable_visulization(df_copy,'start_month')"
   ]
  },
  {
   "cell_type": "markdown",
   "metadata": {},
   "source": []
  },
  {
   "cell_type": "code",
   "execution_count": 60,
   "metadata": {},
   "outputs": [
    {
     "data": {
      "image/png": "[encoded data removed]",
      "text/plain": [
       "<Figure size 1152x360 with 2 Axes>"
      ]
     },
     "metadata": {},
     "output_type": "display_data"
    }
   ],
   "source": [
    "variable_visulization(df_copy,'start_hour')"
   ]
  },
  {
   "cell_type": "markdown",
   "metadata": {},
   "source": []
  },
  {
   "cell_type": "markdown",
   "metadata": {},
   "source": [
    "### 讲一下你在这一部分的探索中观察到的关系，你感兴趣的变量是否有变化？\n",
    "\n",
    "> Your answer here!\n",
    "\n",
    "### 是否观察到其他特征（不是之前感兴趣的特征）之间的有趣关系？\n",
    "\n",
    "> Your answer here!"
   ]
  },
  {
   "cell_type": "markdown",
   "metadata": {},
   "source": [
    "## 多变量探索\n",
    "\n",
    "> 创建三个或更多变量的图表，以进一步探索数据。确保探索是合理的，与前面的探索一脉相承。"
   ]
  },
  {
   "cell_type": "code",
   "execution_count": null,
   "metadata": {},
   "outputs": [],
   "source": []
  },
  {
   "cell_type": "markdown",
   "metadata": {},
   "source": [
    "### 讨论这一部分探索中观察到的关系。这些特征关系是否对你感兴趣的特征有帮助？ Were there features that strengthened each other in terms of looking at your feature(s) of interest?\n",
    "\n",
    "> Your answer here!\n",
    "\n",
    "### 特征之间是否存在有趣的、令人惊讶的相互作用？\n",
    "\n",
    "> Your answer here!"
   ]
  },
  {
   "cell_type": "code",
   "execution_count": null,
   "metadata": {},
   "outputs": [],
   "source": []
  }
 ],
 "metadata": {
  "kernelspec": {
   "display_name": "Python 3",
   "language": "python",
   "name": "python3"
  },
  "language_info": {
   "codemirror_mode": {
    "name": "ipython",
    "version": 3
   },
   "file_extension": ".py",
   "mimetype": "text/x-python",
   "name": "python",
   "nbconvert_exporter": "python",
   "pygments_lexer": "ipython3",
   "version": "3.6.6"
  }
 },
 "nbformat": 4,
 "nbformat_minor": 2
}
